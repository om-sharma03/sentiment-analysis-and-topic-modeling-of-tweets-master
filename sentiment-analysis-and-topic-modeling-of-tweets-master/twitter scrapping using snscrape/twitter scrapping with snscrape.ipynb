{
 "cells": [
  {
   "cell_type": "markdown",
   "id": "6efcaa82",
   "metadata": {},
   "source": [
    "# Scrapping Russia-Ukraine war-related tweets using snscrape"
   ]
  },
  {
   "cell_type": "markdown",
   "id": "da90555c",
   "metadata": {},
   "source": [
    "## Hashtags used:\n",
    "\n",
    "1. '#UkraineUnderAttaсk'\n",
    "2. '#UkraineRussiaWar'\n",
    "3. '#RussiaUkraineConflict'\n",
    "4. '#RussianUkrainianWar'\n",
    "5. '#ukrainerussia'\n",
    "6. '#WorldWar3'\n",
    "7. '#RussiaVsUkraine'\n",
    "8. '#StandWithRussia'\n",
    "9. '#StandWithUkraine'"
   ]
  },
  {
   "cell_type": "code",
   "execution_count": 18,
   "id": "111fb983",
   "metadata": {},
   "outputs": [],
   "source": [
    "# Importing packages\n",
    "\n",
    "import pandas as pd \n",
    "import snscrape.modules.twitter as sntwitter"
   ]
  },
  {
   "cell_type": "markdown",
   "id": "c337abba",
   "metadata": {},
   "source": [
    "### Criteria for searching tweets\n",
    "\n",
    "1. Language : English\n",
    "2. Minimum likes : 20\n",
    "3. Minimun retweets : 10\n",
    "4. Time period : After 24.02.2022\n",
    "4. Excluded : replies, retweets    "
   ]
  },
  {
   "cell_type": "code",
   "execution_count": 191,
   "id": "cd0faae8",
   "metadata": {},
   "outputs": [],
   "source": [
    "# Criteria string\n",
    "criteria = \"since:2022-02-24 exclude:retweets exclude:replies lang:en min_faves:20 min_retweets:10\""
   ]
  },
  {
   "cell_type": "code",
   "execution_count": 208,
   "id": "d09b1b3b",
   "metadata": {},
   "outputs": [],
   "source": [
    "# List of hashtags used\n",
    "keywords = [\"#UkraineUnderAttaсk\", \"#UkraineRussiaWar\", \"#RussiaUkraineConflict\", \"#RussianUkrainianWar\", \"#ukrainerussia\",\n",
    "            \"#WorldWar3\", \"#RussiaVsUkraine\", \"#StandWithRussia\", \"#StandWithUkraine\"]"
   ]
  },
  {
   "cell_type": "code",
   "execution_count": 209,
   "id": "75349f06",
   "metadata": {},
   "outputs": [],
   "source": [
    "# initializing enpmty list for the scrraped tweets\n",
    "tweets_list = []\n",
    "\n",
    "# Loop for all the hashtags\n",
    "for j in range(0, 9, 1):\n",
    "    maxTweets = 700  # Maximum number of tweets for each hashtag\n",
    "    \n",
    "    # Using TwitterSearchScraper to scrape data and append tweets to list\n",
    "    for i,tweet in enumerate(sntwitter.TwitterSearchScraper(\" \".join([keywords[j], criteria])).get_items()):\n",
    "        if i>maxTweets:\n",
    "            break\n",
    "        tweets_list.append([tweet.date, tweet.id, tweet.rawContent, tweet.user.username])"
   ]
  },
  {
   "cell_type": "code",
   "execution_count": 210,
   "id": "d3676a05",
   "metadata": {},
   "outputs": [
    {
     "data": {
      "text/plain": [
       "5253"
      ]
     },
     "execution_count": 210,
     "metadata": {},
     "output_type": "execute_result"
    }
   ],
   "source": [
    "# Check length of the tweets list\n",
    "len(tweets_list)"
   ]
  },
  {
   "cell_type": "code",
   "execution_count": 211,
   "id": "1c339112",
   "metadata": {},
   "outputs": [],
   "source": [
    "# Creating a dataframe from the tweets list above\n",
    "df = pd.DataFrame(tweets_list, columns=['Datetime', 'Tweet Id', 'Text', 'Username'])"
   ]
  },
  {
   "cell_type": "code",
   "execution_count": 212,
   "id": "9f292042",
   "metadata": {},
   "outputs": [],
   "source": [
    "# Converting the dataframe to a csv file and reading it\n",
    "df.to_csv(\"scrappedtweets.csv\", index = False)\n",
    "df = pd.read_csv(\"scrappedtweets.csv\")"
   ]
  },
  {
   "cell_type": "code",
   "execution_count": 213,
   "id": "ef13c3de",
   "metadata": {},
   "outputs": [
    {
     "data": {
      "text/plain": [
       "(5253, 4)"
      ]
     },
     "execution_count": 213,
     "metadata": {},
     "output_type": "execute_result"
    }
   ],
   "source": [
    "# Checking shape of the dataframe\n",
    "df.shape"
   ]
  },
  {
   "cell_type": "code",
   "execution_count": 214,
   "id": "4c8192b4",
   "metadata": {},
   "outputs": [
    {
     "data": {
      "text/html": [
       "<div>\n",
       "<style scoped>\n",
       "    .dataframe tbody tr th:only-of-type {\n",
       "        vertical-align: middle;\n",
       "    }\n",
       "\n",
       "    .dataframe tbody tr th {\n",
       "        vertical-align: top;\n",
       "    }\n",
       "\n",
       "    .dataframe thead th {\n",
       "        text-align: right;\n",
       "    }\n",
       "</style>\n",
       "<table border=\"1\" class=\"dataframe\">\n",
       "  <thead>\n",
       "    <tr style=\"text-align: right;\">\n",
       "      <th></th>\n",
       "      <th>Datetime</th>\n",
       "      <th>Tweet Id</th>\n",
       "      <th>Text</th>\n",
       "      <th>Username</th>\n",
       "    </tr>\n",
       "  </thead>\n",
       "  <tbody>\n",
       "    <tr>\n",
       "      <th>0</th>\n",
       "      <td>2023-04-13 02:56:08+00:00</td>\n",
       "      <td>1646346501101174786</td>\n",
       "      <td>#Ukraine: In the video, a Ukrainian soldier wi...</td>\n",
       "      <td>WeaponsWarfare</td>\n",
       "    </tr>\n",
       "    <tr>\n",
       "      <th>1</th>\n",
       "      <td>2023-04-12 10:38:53+00:00</td>\n",
       "      <td>1646100569696632833</td>\n",
       "      <td>#Ukraine: A very rare video of a Ukrainian BSE...</td>\n",
       "      <td>WeaponsWarfare</td>\n",
       "    </tr>\n",
       "    <tr>\n",
       "      <th>2</th>\n",
       "      <td>2023-04-12 02:50:37+00:00</td>\n",
       "      <td>1645982725583585280</td>\n",
       "      <td>#Ukraine: Very rare video - American🇺🇲 BATT UM...</td>\n",
       "      <td>WeaponsWarfare</td>\n",
       "    </tr>\n",
       "    <tr>\n",
       "      <th>3</th>\n",
       "      <td>2023-04-07 18:01:33+00:00</td>\n",
       "      <td>1644400032362246145</td>\n",
       "      <td>⚡️📢 Romanian media reports, that: \"Armenia ign...</td>\n",
       "      <td>ScourgeOfTengri</td>\n",
       "    </tr>\n",
       "    <tr>\n",
       "      <th>4</th>\n",
       "      <td>2023-04-07 07:36:00+00:00</td>\n",
       "      <td>1644242607021740032</td>\n",
       "      <td>The Ukrainian counter-offensive is likely to b...</td>\n",
       "      <td>ukraine_world</td>\n",
       "    </tr>\n",
       "    <tr>\n",
       "      <th>5</th>\n",
       "      <td>2023-04-06 13:55:00+00:00</td>\n",
       "      <td>1643975595552829440</td>\n",
       "      <td>Dr. Irwin Redlener, pandemic and disaster reco...</td>\n",
       "      <td>StephMillerShow</td>\n",
       "    </tr>\n",
       "    <tr>\n",
       "      <th>6</th>\n",
       "      <td>2023-03-18 07:14:57+00:00</td>\n",
       "      <td>1636989550403747840</td>\n",
       "      <td>Every new day Russia tries to show itself as a...</td>\n",
       "      <td>ukraine_world</td>\n",
       "    </tr>\n",
       "    <tr>\n",
       "      <th>7</th>\n",
       "      <td>2023-03-10 07:06:28+00:00</td>\n",
       "      <td>1634088311865200642</td>\n",
       "      <td>30% of Kyiv residents are still without heatin...</td>\n",
       "      <td>ukraine_world</td>\n",
       "    </tr>\n",
       "    <tr>\n",
       "      <th>8</th>\n",
       "      <td>2023-03-09 14:55:00+00:00</td>\n",
       "      <td>1633843834672013312</td>\n",
       "      <td>Dr. Irwin Redlener, pandemic and disaster reco...</td>\n",
       "      <td>StephMillerShow</td>\n",
       "    </tr>\n",
       "    <tr>\n",
       "      <th>9</th>\n",
       "      <td>2023-03-09 12:44:28+00:00</td>\n",
       "      <td>1633810986363658246</td>\n",
       "      <td>🇺🇦The Story of a Ukrainian Sniper\\n\\nEvgeniya ...</td>\n",
       "      <td>IWPR</td>\n",
       "    </tr>\n",
       "  </tbody>\n",
       "</table>\n",
       "</div>"
      ],
      "text/plain": [
       "                    Datetime             Tweet Id   \n",
       "0  2023-04-13 02:56:08+00:00  1646346501101174786  \\\n",
       "1  2023-04-12 10:38:53+00:00  1646100569696632833   \n",
       "2  2023-04-12 02:50:37+00:00  1645982725583585280   \n",
       "3  2023-04-07 18:01:33+00:00  1644400032362246145   \n",
       "4  2023-04-07 07:36:00+00:00  1644242607021740032   \n",
       "5  2023-04-06 13:55:00+00:00  1643975595552829440   \n",
       "6  2023-03-18 07:14:57+00:00  1636989550403747840   \n",
       "7  2023-03-10 07:06:28+00:00  1634088311865200642   \n",
       "8  2023-03-09 14:55:00+00:00  1633843834672013312   \n",
       "9  2023-03-09 12:44:28+00:00  1633810986363658246   \n",
       "\n",
       "                                                Text         Username  \n",
       "0  #Ukraine: In the video, a Ukrainian soldier wi...   WeaponsWarfare  \n",
       "1  #Ukraine: A very rare video of a Ukrainian BSE...   WeaponsWarfare  \n",
       "2  #Ukraine: Very rare video - American🇺🇲 BATT UM...   WeaponsWarfare  \n",
       "3  ⚡️📢 Romanian media reports, that: \"Armenia ign...  ScourgeOfTengri  \n",
       "4  The Ukrainian counter-offensive is likely to b...    ukraine_world  \n",
       "5  Dr. Irwin Redlener, pandemic and disaster reco...  StephMillerShow  \n",
       "6  Every new day Russia tries to show itself as a...    ukraine_world  \n",
       "7  30% of Kyiv residents are still without heatin...    ukraine_world  \n",
       "8  Dr. Irwin Redlener, pandemic and disaster reco...  StephMillerShow  \n",
       "9  🇺🇦The Story of a Ukrainian Sniper\\n\\nEvgeniya ...             IWPR  "
      ]
     },
     "execution_count": 214,
     "metadata": {},
     "output_type": "execute_result"
    }
   ],
   "source": [
    "# Checking the first 10 rows\n",
    "df.head(10)"
   ]
  },
  {
   "cell_type": "code",
   "execution_count": 215,
   "id": "85d57091",
   "metadata": {},
   "outputs": [],
   "source": [
    "# Shuffle the rows of the dataframe\n",
    "df = df.sample(frac=1)"
   ]
  },
  {
   "cell_type": "code",
   "execution_count": 216,
   "id": "77944ff4",
   "metadata": {},
   "outputs": [
    {
     "data": {
      "text/html": [
       "<div>\n",
       "<style scoped>\n",
       "    .dataframe tbody tr th:only-of-type {\n",
       "        vertical-align: middle;\n",
       "    }\n",
       "\n",
       "    .dataframe tbody tr th {\n",
       "        vertical-align: top;\n",
       "    }\n",
       "\n",
       "    .dataframe thead th {\n",
       "        text-align: right;\n",
       "    }\n",
       "</style>\n",
       "<table border=\"1\" class=\"dataframe\">\n",
       "  <thead>\n",
       "    <tr style=\"text-align: right;\">\n",
       "      <th></th>\n",
       "      <th>Datetime</th>\n",
       "      <th>Tweet Id</th>\n",
       "      <th>Text</th>\n",
       "      <th>Username</th>\n",
       "    </tr>\n",
       "  </thead>\n",
       "  <tbody>\n",
       "    <tr>\n",
       "      <th>2287</th>\n",
       "      <td>2023-03-20 19:00:57+00:00</td>\n",
       "      <td>1637891998014226433</td>\n",
       "      <td>This is how diplomacy at the front looks like ...</td>\n",
       "      <td>Jano14Toga</td>\n",
       "    </tr>\n",
       "    <tr>\n",
       "      <th>633</th>\n",
       "      <td>2022-03-07 14:22:00+00:00</td>\n",
       "      <td>1500839183425888261</td>\n",
       "      <td>“During the night, #Russia hit #Mykolayiv, res...</td>\n",
       "      <td>EuromaidanPR</td>\n",
       "    </tr>\n",
       "    <tr>\n",
       "      <th>2538</th>\n",
       "      <td>2022-11-16 08:18:40+00:00</td>\n",
       "      <td>1592794267935645696</td>\n",
       "      <td>Latest Defence Intelligence update on the situ...</td>\n",
       "      <td>ukraine_world</td>\n",
       "    </tr>\n",
       "    <tr>\n",
       "      <th>3267</th>\n",
       "      <td>2022-03-14 19:34:55+00:00</td>\n",
       "      <td>1503454646169477121</td>\n",
       "      <td>#FLASH—#MARIUPOL—Earlier on March 14, 2022, #R...</td>\n",
       "      <td>gbazov</td>\n",
       "    </tr>\n",
       "    <tr>\n",
       "      <th>4115</th>\n",
       "      <td>2022-02-24 16:30:25+00:00</td>\n",
       "      <td>1496885234696351746</td>\n",
       "      <td>Don't forget Cruel Terrorist Israel's brutalit...</td>\n",
       "      <td>AdnanJanjua1603</td>\n",
       "    </tr>\n",
       "  </tbody>\n",
       "</table>\n",
       "</div>"
      ],
      "text/plain": [
       "                       Datetime             Tweet Id   \n",
       "2287  2023-03-20 19:00:57+00:00  1637891998014226433  \\\n",
       "633   2022-03-07 14:22:00+00:00  1500839183425888261   \n",
       "2538  2022-11-16 08:18:40+00:00  1592794267935645696   \n",
       "3267  2022-03-14 19:34:55+00:00  1503454646169477121   \n",
       "4115  2022-02-24 16:30:25+00:00  1496885234696351746   \n",
       "\n",
       "                                                   Text         Username  \n",
       "2287  This is how diplomacy at the front looks like ...       Jano14Toga  \n",
       "633   “During the night, #Russia hit #Mykolayiv, res...     EuromaidanPR  \n",
       "2538  Latest Defence Intelligence update on the situ...    ukraine_world  \n",
       "3267  #FLASH—#MARIUPOL—Earlier on March 14, 2022, #R...           gbazov  \n",
       "4115  Don't forget Cruel Terrorist Israel's brutalit...  AdnanJanjua1603  "
      ]
     },
     "execution_count": 216,
     "metadata": {},
     "output_type": "execute_result"
    }
   ],
   "source": [
    "df.head()"
   ]
  },
  {
   "cell_type": "markdown",
   "id": "e1e121cd",
   "metadata": {},
   "source": [
    "## Conclusion\n",
    "\n",
    "#### 5253 Russia-Ukraine war-related tweets have been scrapped from Twitter using snscrape having:\n",
    "1. Language : English\n",
    "2. Minimum likes : 20\n",
    "3. Minimun retweets : 10\n",
    "4. Time period : After 24.02.2022\n",
    "5. Excluded : replies, retweets   "
   ]
  }
 ],
 "metadata": {
  "kernelspec": {
   "display_name": "Python 3 (ipykernel)",
   "language": "python",
   "name": "python3"
  },
  "language_info": {
   "codemirror_mode": {
    "name": "ipython",
    "version": 3
   },
   "file_extension": ".py",
   "mimetype": "text/x-python",
   "name": "python",
   "nbconvert_exporter": "python",
   "pygments_lexer": "ipython3",
   "version": "3.10.8"
  }
 },
 "nbformat": 4,
 "nbformat_minor": 5
}
