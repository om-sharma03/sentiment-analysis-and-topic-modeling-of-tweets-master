{
 "cells": [
  {
   "cell_type": "markdown",
   "id": "45ce6c33",
   "metadata": {},
   "source": [
    "# Topic Modeling in Python using Latent Dirichlet Allocation (LDA)\n",
    "\n",
    "Probabilistic topic models, such as LDA, are popular tools for text analysis, providing both a predictive and latent topic representation of the corpus. \n",
    "Here, we will focus on topic modeling approx 5000 tweets scrapped from twitter on Russia-Ukraine war.\n",
    "\n",
    "### Model Implementation:\n",
    "    1. Loading Data\n",
    "    2. Data Cleaning\n",
    "    3. Phrase Modeling: Bi-grams and Tri-grams\n",
    "    4. Data Transformation: Corpus and Dictionary\n",
    "    5. Base Model\n",
    "    6. Hyper-parameter Tuning\n",
    "    7. Final model"
   ]
  },
  {
   "cell_type": "markdown",
   "id": "22d2bddb",
   "metadata": {},
   "source": [
    "## Step 1: Loading Data"
   ]
  },
  {
   "cell_type": "code",
   "execution_count": 1,
   "id": "3abc4c1d",
   "metadata": {},
   "outputs": [
    {
     "data": {
      "text/html": [
       "<div>\n",
       "<style scoped>\n",
       "    .dataframe tbody tr th:only-of-type {\n",
       "        vertical-align: middle;\n",
       "    }\n",
       "\n",
       "    .dataframe tbody tr th {\n",
       "        vertical-align: top;\n",
       "    }\n",
       "\n",
       "    .dataframe thead th {\n",
       "        text-align: right;\n",
       "    }\n",
       "</style>\n",
       "<table border=\"1\" class=\"dataframe\">\n",
       "  <thead>\n",
       "    <tr style=\"text-align: right;\">\n",
       "      <th></th>\n",
       "      <th>Datetime</th>\n",
       "      <th>Tweet Id</th>\n",
       "      <th>Text</th>\n",
       "      <th>Username</th>\n",
       "      <th>Subjectivity</th>\n",
       "      <th>Polarity</th>\n",
       "      <th>Analysis</th>\n",
       "    </tr>\n",
       "  </thead>\n",
       "  <tbody>\n",
       "    <tr>\n",
       "      <th>0</th>\n",
       "      <td>2023-04-13 02:56:08+00:00</td>\n",
       "      <td>1646346501101174786</td>\n",
       "      <td>Ukraine: In the video, a Ukrainian soldier wit...</td>\n",
       "      <td>WeaponsWarfare</td>\n",
       "      <td>0.321429</td>\n",
       "      <td>0.166667</td>\n",
       "      <td>Positive</td>\n",
       "    </tr>\n",
       "    <tr>\n",
       "      <th>1</th>\n",
       "      <td>2023-04-12 10:38:53+00:00</td>\n",
       "      <td>1646100569696632833</td>\n",
       "      <td>Ukraine: A very rare video of a Ukrainian BSEM...</td>\n",
       "      <td>WeaponsWarfare</td>\n",
       "      <td>1.000000</td>\n",
       "      <td>0.390000</td>\n",
       "      <td>Positive</td>\n",
       "    </tr>\n",
       "    <tr>\n",
       "      <th>2</th>\n",
       "      <td>2023-04-12 02:50:37+00:00</td>\n",
       "      <td>1645982725583585280</td>\n",
       "      <td>Ukraine: Very rare video - American🇺🇲 BATT UMG...</td>\n",
       "      <td>WeaponsWarfare</td>\n",
       "      <td>0.500000</td>\n",
       "      <td>0.195000</td>\n",
       "      <td>Positive</td>\n",
       "    </tr>\n",
       "    <tr>\n",
       "      <th>3</th>\n",
       "      <td>2023-04-07 18:01:33+00:00</td>\n",
       "      <td>1644400032362246145</td>\n",
       "      <td>⚡️📢 Romanian media reports, that: \"Armenia ign...</td>\n",
       "      <td>ScourgeOfTengri</td>\n",
       "      <td>0.050000</td>\n",
       "      <td>-0.050000</td>\n",
       "      <td>Negative</td>\n",
       "    </tr>\n",
       "    <tr>\n",
       "      <th>4</th>\n",
       "      <td>2023-04-07 07:36:00+00:00</td>\n",
       "      <td>1644242607021740032</td>\n",
       "      <td>The Ukrainian counter-offensive is likely to b...</td>\n",
       "      <td>ukraine_world</td>\n",
       "      <td>1.000000</td>\n",
       "      <td>0.000000</td>\n",
       "      <td>Neutral</td>\n",
       "    </tr>\n",
       "  </tbody>\n",
       "</table>\n",
       "</div>"
      ],
      "text/plain": [
       "                    Datetime             Tweet Id   \n",
       "0  2023-04-13 02:56:08+00:00  1646346501101174786  \\\n",
       "1  2023-04-12 10:38:53+00:00  1646100569696632833   \n",
       "2  2023-04-12 02:50:37+00:00  1645982725583585280   \n",
       "3  2023-04-07 18:01:33+00:00  1644400032362246145   \n",
       "4  2023-04-07 07:36:00+00:00  1644242607021740032   \n",
       "\n",
       "                                                Text         Username   \n",
       "0  Ukraine: In the video, a Ukrainian soldier wit...   WeaponsWarfare  \\\n",
       "1  Ukraine: A very rare video of a Ukrainian BSEM...   WeaponsWarfare   \n",
       "2  Ukraine: Very rare video - American🇺🇲 BATT UMG...   WeaponsWarfare   \n",
       "3  ⚡️📢 Romanian media reports, that: \"Armenia ign...  ScourgeOfTengri   \n",
       "4  The Ukrainian counter-offensive is likely to b...    ukraine_world   \n",
       "\n",
       "   Subjectivity  Polarity  Analysis  \n",
       "0      0.321429  0.166667  Positive  \n",
       "1      1.000000  0.390000  Positive  \n",
       "2      0.500000  0.195000  Positive  \n",
       "3      0.050000 -0.050000  Negative  \n",
       "4      1.000000  0.000000   Neutral  "
      ]
     },
     "execution_count": 1,
     "metadata": {},
     "output_type": "execute_result"
    }
   ],
   "source": [
    "# Importing packages\n",
    "import pandas as pd\n",
    "import os\n",
    "\n",
    "# Read the CSV file into a pandas DataFrame\n",
    "df = pd.read_csv(\"../sentiment analysis using textblob/processed_tweets.csv\")\n",
    "\n",
    "# Print head\n",
    "df.head()"
   ]
  },
  {
   "cell_type": "markdown",
   "id": "8c525a7d",
   "metadata": {},
   "source": [
    "## Step 2: Data Cleaning\n",
    "\n",
    "Since the goal of this analysis is to perform topic modeling, we will solely focus on the text data from each tweet and drop other metadata columns."
   ]
  },
  {
   "cell_type": "code",
   "execution_count": 2,
   "id": "742ce4a8",
   "metadata": {},
   "outputs": [
    {
     "data": {
      "text/html": [
       "<div>\n",
       "<style scoped>\n",
       "    .dataframe tbody tr th:only-of-type {\n",
       "        vertical-align: middle;\n",
       "    }\n",
       "\n",
       "    .dataframe tbody tr th {\n",
       "        vertical-align: top;\n",
       "    }\n",
       "\n",
       "    .dataframe thead th {\n",
       "        text-align: right;\n",
       "    }\n",
       "</style>\n",
       "<table border=\"1\" class=\"dataframe\">\n",
       "  <thead>\n",
       "    <tr style=\"text-align: right;\">\n",
       "      <th></th>\n",
       "      <th>Text</th>\n",
       "    </tr>\n",
       "  </thead>\n",
       "  <tbody>\n",
       "    <tr>\n",
       "      <th>0</th>\n",
       "      <td>Ukraine: In the video, a Ukrainian soldier wit...</td>\n",
       "    </tr>\n",
       "    <tr>\n",
       "      <th>1</th>\n",
       "      <td>Ukraine: A very rare video of a Ukrainian BSEM...</td>\n",
       "    </tr>\n",
       "    <tr>\n",
       "      <th>2</th>\n",
       "      <td>Ukraine: Very rare video - American🇺🇲 BATT UMG...</td>\n",
       "    </tr>\n",
       "    <tr>\n",
       "      <th>3</th>\n",
       "      <td>⚡️📢 Romanian media reports, that: \"Armenia ign...</td>\n",
       "    </tr>\n",
       "    <tr>\n",
       "      <th>4</th>\n",
       "      <td>The Ukrainian counter-offensive is likely to b...</td>\n",
       "    </tr>\n",
       "  </tbody>\n",
       "</table>\n",
       "</div>"
      ],
      "text/plain": [
       "                                                Text\n",
       "0  Ukraine: In the video, a Ukrainian soldier wit...\n",
       "1  Ukraine: A very rare video of a Ukrainian BSEM...\n",
       "2  Ukraine: Very rare video - American🇺🇲 BATT UMG...\n",
       "3  ⚡️📢 Romanian media reports, that: \"Armenia ign...\n",
       "4  The Ukrainian counter-offensive is likely to b..."
      ]
     },
     "execution_count": 2,
     "metadata": {},
     "output_type": "execute_result"
    }
   ],
   "source": [
    "# Remove the columns\n",
    "df = df.drop(columns=['Datetime', 'Tweet Id', 'Username', \n",
    "                              'Subjectivity', 'Polarity', 'Analysis'], axis=1)\n",
    "\n",
    "# Print out the first rows of tweets\n",
    "df.head()"
   ]
  },
  {
   "cell_type": "markdown",
   "id": "7c88ba3b",
   "metadata": {},
   "source": [
    "### Remove punctuation/lower casing\n",
    "\n",
    "Next, let’s perform a simple preprocessing on the content of text column to make them more amenable for analysis and reliable results. To do that, we’ll use a regular expression to remove any punctuation, and then lowercase the text"
   ]
  },
  {
   "cell_type": "code",
   "execution_count": 7,
   "id": "afc294cf",
   "metadata": {},
   "outputs": [
    {
     "data": {
      "text/plain": [
       "0    ukraine: in the video a ukrainian soldier with...\n",
       "1    ukraine: a very rare video of a ukrainian bsem...\n",
       "2    ukraine: very rare video - american🇺🇲 batt umg...\n",
       "3    ⚡️📢 romanian media reports that: \"armenia igno...\n",
       "4    the ukrainian counter-offensive is likely to b...\n",
       "Name: text_processed, dtype: object"
      ]
     },
     "execution_count": 7,
     "metadata": {},
     "output_type": "execute_result"
    }
   ],
   "source": [
    "# Load the regular expression library\n",
    "import re\n",
    "\n",
    "# Remove punctuation\n",
    "df['text_processed'] = df['Text'].map(lambda x: re.sub('[,\\.!?]', '', x))\n",
    "\n",
    "# Convert the titles to lowercase\n",
    "df['text_processed'] = df['text_processed'].map(lambda x: x.lower())\n",
    "\n",
    "# Print out the first rows of papers\n",
    "df['text_processed'].head()"
   ]
  },
  {
   "cell_type": "markdown",
   "id": "b363c4d8",
   "metadata": {},
   "source": [
    "### Tokenize words and further clean-up text\n",
    "\n",
    "Let’s tokenize each sentence into a list of words, removing punctuations and unnecessary characters altogether."
   ]
  },
  {
   "cell_type": "code",
   "execution_count": 8,
   "id": "81dc2e51",
   "metadata": {},
   "outputs": [
    {
     "name": "stdout",
     "output_type": "stream",
     "text": [
      "['ukraine', 'in', 'the', 'video', 'ukrainian', 'soldier', 'with', 'box', 'with', 'finnish', 'frag', 'hand', 'grenades', 'and', 'right', 'next', 'to', 'the', 'box', 'large', 'number', 'of', 'jva', 'fuses', 'russia', 'russia', 'kyiv', 'finland', 'ukrainewar', 'ukraina']\n"
     ]
    }
   ],
   "source": [
    "import gensim\n",
    "from gensim.utils import simple_preprocess\n",
    "\n",
    "def sent_to_words(sentences):\n",
    "    for sentence in sentences:\n",
    "        yield(gensim.utils.simple_preprocess(str(sentence), deacc=True))  # deacc=True removes punctuations\n",
    "\n",
    "data = df.text_processed.values.tolist()\n",
    "data_words = list(sent_to_words(data))\n",
    "\n",
    "print(data_words[:1][0][:30])"
   ]
  },
  {
   "cell_type": "markdown",
   "id": "af9283b8",
   "metadata": {},
   "source": [
    "## Step 3: Phrase Modeling: Bigram and Trigram Models\n",
    "\n",
    "Bigrams are two words frequently occurring together in the document. Trigrams are 3 words frequently occurring.\n",
    "\n",
    "Gensim's Phrases model can build and implement the bigrams, trigrams, quadgrams and more. The two important arguments to Phrases are min_count and threshold.\n",
    "\n",
    "The higher the values of these param, the harder it is for words to be combined."
   ]
  },
  {
   "cell_type": "code",
   "execution_count": 9,
   "id": "0bde4ac8",
   "metadata": {},
   "outputs": [],
   "source": [
    "# Build the bigram and trigram models\n",
    "bigram = gensim.models.Phrases(data_words, min_count=5, threshold=100) # higher threshold fewer phrases.\n",
    "trigram = gensim.models.Phrases(bigram[data_words], threshold=100)  \n",
    "\n",
    "# Faster way to get a sentence clubbed as a trigram/bigram\n",
    "bigram_mod = gensim.models.phrases.Phraser(bigram)\n",
    "trigram_mod = gensim.models.phrases.Phraser(trigram)"
   ]
  },
  {
   "cell_type": "markdown",
   "id": "682206bc",
   "metadata": {},
   "source": [
    "### Remove Stopwords, Make Bigrams and Lemmatize\n",
    "\n",
    "The phrase models are ready. Let’s define the functions to remove the stopwords, make trigrams and lemmatization and call them sequentially."
   ]
  },
  {
   "cell_type": "code",
   "execution_count": 10,
   "id": "779fced4",
   "metadata": {},
   "outputs": [
    {
     "name": "stderr",
     "output_type": "stream",
     "text": [
      "[nltk_data] Downloading package stopwords to\n",
      "[nltk_data]     C:\\Users\\User\\AppData\\Roaming\\nltk_data...\n",
      "[nltk_data]   Package stopwords is already up-to-date!\n"
     ]
    }
   ],
   "source": [
    "# NLTK Stop words\n",
    "import nltk\n",
    "nltk.download('stopwords')\n",
    "from nltk.corpus import stopwords\n",
    "\n",
    "stop_words = stopwords.words('english')\n",
    "stop_words.extend(['from', 'subject', 're', 'edu', 'use'])"
   ]
  },
  {
   "cell_type": "code",
   "execution_count": 11,
   "id": "24b57c73",
   "metadata": {},
   "outputs": [],
   "source": [
    "# Define functions for stopwords, bigrams, trigrams and lemmatization\n",
    "def remove_stopwords(texts):\n",
    "    return [[word for word in simple_preprocess(str(doc)) if word not in stop_words] for doc in texts]\n",
    "\n",
    "def make_bigrams(texts):\n",
    "    return [bigram_mod[doc] for doc in texts]\n",
    "\n",
    "def make_trigrams(texts):\n",
    "    return [trigram_mod[bigram_mod[doc]] for doc in texts]\n",
    "\n",
    "def lemmatization(texts, allowed_postags=['NOUN', 'ADJ', 'VERB', 'ADV']):\n",
    "    \"\"\"https://spacy.io/api/annotation\"\"\"\n",
    "    texts_out = []\n",
    "    for sent in texts:\n",
    "        doc = nlp(\" \".join(sent)) \n",
    "        texts_out.append([token.lemma_ for token in doc if token.pos_ in allowed_postags])\n",
    "    return texts_out"
   ]
  },
  {
   "cell_type": "markdown",
   "id": "279a5f63",
   "metadata": {},
   "source": [
    "#### Let's call the functions in order."
   ]
  },
  {
   "cell_type": "code",
   "execution_count": null,
   "id": "6a2565a2",
   "metadata": {},
   "outputs": [],
   "source": [
    "!python -m spacy download en_core_web_sm"
   ]
  },
  {
   "cell_type": "code",
   "execution_count": 13,
   "id": "8c81e39c",
   "metadata": {},
   "outputs": [
    {
     "name": "stdout",
     "output_type": "stream",
     "text": [
      "['video', 'frag', 'hand', 'grenade', 'right', 'next', 'box', 'large', 'number', 'fuse']\n"
     ]
    }
   ],
   "source": [
    "import spacy\n",
    "\n",
    "# Remove Stop Words\n",
    "data_words_nostops = remove_stopwords(data_words)\n",
    "\n",
    "# Form Bigrams\n",
    "data_words_bigrams = make_bigrams(data_words_nostops)\n",
    "\n",
    "# Initialize spacy 'en' model, keeping only tagger component (for efficiency)\n",
    "nlp = spacy.load(\"en_core_web_sm\", disable=['parser', 'ner'])\n",
    "\n",
    "# Do lemmatization keeping only noun, adj, vb, adv\n",
    "data_lemmatized = lemmatization(data_words_bigrams, allowed_postags=['NOUN', 'ADJ', 'VERB', 'ADV'])\n",
    "\n",
    "print(data_lemmatized[:1][0][:30])"
   ]
  },
  {
   "cell_type": "markdown",
   "id": "12e4bac0",
   "metadata": {},
   "source": [
    "## Step 4: Data transformation: Corpus and Dictionary\n",
    "\n",
    "The two main inputs to the LDA topic model are the dictionary(id2word) and the corpus. Let’s create them."
   ]
  },
  {
   "cell_type": "code",
   "execution_count": 14,
   "id": "95d59f5c",
   "metadata": {},
   "outputs": [
    {
     "name": "stdout",
     "output_type": "stream",
     "text": [
      "[(0, 1), (1, 1), (2, 1), (3, 1), (4, 1), (5, 1), (6, 1), (7, 1), (8, 1), (9, 1)]\n"
     ]
    }
   ],
   "source": [
    "import gensim.corpora as corpora\n",
    "\n",
    "# Create Dictionary\n",
    "id2word = corpora.Dictionary(data_lemmatized)\n",
    "\n",
    "# Create Corpus\n",
    "texts = data_lemmatized\n",
    "\n",
    "# Term Document Frequency\n",
    "corpus = [id2word.doc2bow(text) for text in texts]\n",
    "\n",
    "# View\n",
    "print(corpus[:1][0][:30])"
   ]
  },
  {
   "cell_type": "markdown",
   "id": "3f8c64fd",
   "metadata": {},
   "source": [
    "## Step 5: Base Model\n",
    "\n",
    "We have everything required to train the base LDA model. In addition to the corpus and dictionary, you need to provide the number of topics as well. Apart from that, alpha and eta are hyperparameters that affect sparsity of the topics. According to the Gensim docs, both defaults to 1.0/num_topics prior (we'll use default for the base model).\n",
    "\n",
    "chunksize controls how many documents are processed at a time in the training algorithm. Increasing chunksize will speed up training, at least as long as the chunk of documents easily fit into memory.\n",
    "\n",
    "passes controls how often we train the model on the entire corpus (set to 10). Another word for passes might be \"epochs\". iterations is somewhat technical, but essentially it controls how often we repeat a particular loop over each document. It is important to set the number of \"passes\" and \"iterations\" high enough."
   ]
  },
  {
   "cell_type": "code",
   "execution_count": 15,
   "id": "d0371ed9",
   "metadata": {},
   "outputs": [],
   "source": [
    "# Build LDA model\n",
    "lda_model = gensim.models.LdaMulticore(corpus=corpus,\n",
    "                                       id2word=id2word,\n",
    "                                       num_topics=10, \n",
    "                                       random_state=100,\n",
    "                                       chunksize=100,\n",
    "                                       passes=10,\n",
    "                                       per_word_topics=True)"
   ]
  },
  {
   "cell_type": "markdown",
   "id": "73620057",
   "metadata": {},
   "source": [
    "The above LDA model is built with 10 different topics where each topic is a combination of keywords and each keyword contributes a certain weightage to the topic.\n",
    "\n",
    "You can see the keywords for each topic and the weightage(importance) of each keyword using lda_model.print_topics()"
   ]
  },
  {
   "cell_type": "code",
   "execution_count": 16,
   "id": "18c8b5c4",
   "metadata": {},
   "outputs": [
    {
     "name": "stdout",
     "output_type": "stream",
     "text": [
      "[(0,\n",
      "  '0.021*\"war\" + 0.017*\"country\" + 0.016*\"thank\" + 0.014*\"support\" + '\n",
      "  '0.012*\"people\" + 0.011*\"help\" + 0.011*\"russian\" + 0.010*\"want\" + '\n",
      "  '0.009*\"world\" + 0.009*\"ukraine\"'),\n",
      " (1,\n",
      "  '0.026*\"ukraine\" + 0.019*\"say\" + 0.018*\"russian\" + 0.016*\"ukrainian\" + '\n",
      "  '0.013*\"zelenskyy\" + 0.012*\"long\" + 0.012*\"day\" + 0.012*\"train\" + '\n",
      "  '0.010*\"position\" + 0.009*\"take\"'),\n",
      " (2,\n",
      "  '0.038*\"russian\" + 0.025*\"ukrainian\" + 0.015*\"attack\" + 0.014*\"kill\" + '\n",
      "  '0.013*\"missile\" + 0.013*\"video\" + 0.013*\"force\" + 0.012*\"ukraine\" + '\n",
      "  '0.012*\"military\" + 0.010*\"break\"'),\n",
      " (3,\n",
      "  '0.071*\"standwithrussia\" + 0.035*\"situation\" + 0.022*\"operation\" + '\n",
      "  '0.021*\"latest_defence\" + 0.021*\"intelligence_update\" + 0.019*\"special\" + '\n",
      "  '0.013*\"good_night\" + 0.012*\"happen\" + 0.010*\"move\" + 0.009*\"many\"'),\n",
      " (4,\n",
      "  '0.027*\"worldwar\" + 0.023*\"war\" + 0.013*\"see\" + 0.011*\"time\" + 0.011*\"big\" + '\n",
      "  '0.009*\"leader\" + 0.009*\"world\" + 0.008*\"message\" + 0.008*\"people\" + '\n",
      "  '0.007*\"arm\"'),\n",
      " (5,\n",
      "  '0.127*\"worldwar\" + 0.034*\"war\" + 0.019*\"ukraine\" + 0.016*\"friend\" + '\n",
      "  '0.016*\"world\" + 0.014*\"stop\" + 0.012*\"read\" + 0.009*\"wwiii\" + '\n",
      "  '0.009*\"political\" + 0.008*\"power\"'),\n",
      " (6,\n",
      "  '0.024*\"invade\" + 0.024*\"peace\" + 0.018*\"talk\" + 0.016*\"ukraine\" + '\n",
      "  '0.014*\"thing\" + 0.012*\"say\" + 0.011*\"ukrainewar\" + 0.011*\"student\" + '\n",
      "  '0.011*\"defeat\" + 0.009*\"fail\"'),\n",
      " (7,\n",
      "  '0.024*\"bakhmut\" + 0.021*\"ukrainian\" + 0.016*\"ukraine\" + 0.015*\"continue\" + '\n",
      "  '0.014*\"russian\" + 0.012*\"live\" + 0.010*\"ukraineinvasion\" + 0.010*\"fight\" + '\n",
      "  '0.010*\"soldier\" + 0.010*\"hold\"'),\n",
      " (8,\n",
      "  '0.018*\"ukrainian\" + 0.015*\"training\" + 0.011*\"language\" + 0.011*\"support\" + '\n",
      "  '0.010*\"plan\" + 0.009*\"ukraine\" + 0.009*\"help\" + 0.009*\"play\" + '\n",
      "  '0.008*\"defend\" + 0.008*\"animal\"'),\n",
      " (9,\n",
      "  '0.052*\"russian\" + 0.030*\"ukrainian\" + 0.020*\"tank\" + 0.017*\"soldier\" + '\n",
      "  '0.014*\"ukraine\" + 0.012*\"say\" + 0.012*\"force\" + 0.010*\"report\" + '\n",
      "  '0.009*\"russiaukraine\" + 0.009*\"city\"')]\n"
     ]
    }
   ],
   "source": [
    "from pprint import pprint\n",
    "\n",
    "# Print the Keyword in the 10 topics\n",
    "pprint(lda_model.print_topics())\n",
    "doc_lda = lda_model[corpus]"
   ]
  },
  {
   "cell_type": "markdown",
   "id": "98ce1565",
   "metadata": {},
   "source": [
    "#### Compute Model Perplexity and Coherence Score\n",
    "\n",
    "Let's calculate the baseline coherence score"
   ]
  },
  {
   "cell_type": "code",
   "execution_count": 17,
   "id": "5ab7c2b6",
   "metadata": {},
   "outputs": [
    {
     "name": "stdout",
     "output_type": "stream",
     "text": [
      "Coherence Score:  0.388742523734377\n"
     ]
    }
   ],
   "source": [
    "from gensim.models import CoherenceModel\n",
    "\n",
    "# Compute Coherence Score\n",
    "coherence_model_lda = CoherenceModel(model=lda_model, texts=data_lemmatized, dictionary=id2word, coherence='c_v')\n",
    "coherence_lda = coherence_model_lda.get_coherence()\n",
    "print('Coherence Score: ', coherence_lda)"
   ]
  },
  {
   "cell_type": "markdown",
   "id": "188b84b6",
   "metadata": {},
   "source": [
    "## Step 6: Hyperparameter tuning\n",
    "\n",
    "First, let's differentiate between model hyperparameters and model parameters :\n",
    "\n",
    "Model hyperparameters can be thought of as settings for a machine learning algorithm that are tuned by the data scientist before training. Examples would be the number of trees in the random forest, or in our case, number of topics K\n",
    "\n",
    "Model parameters can be thought of as what the model learns during training, such as the weights for each word in a given topic.\n",
    "\n",
    "Now that we have the baseline coherence score for the default LDA model, let's perform a series of sensitivity tests to help determine the following model hyperparameters:\n",
    "\n",
    "Number of Topics (K)\n",
    "Dirichlet hyperparameter alpha: Document-Topic Density\n",
    "Dirichlet hyperparameter beta: Word-Topic Density\n",
    "We'll perform these tests in sequence, one parameter at a time by keeping others constant and run them over the two difference validation corpus sets. We'll use C_v as our choice of metric for performance comparison"
   ]
  },
  {
   "cell_type": "code",
   "execution_count": 18,
   "id": "beb352e6",
   "metadata": {},
   "outputs": [],
   "source": [
    "# supporting function\n",
    "def compute_coherence_values(corpus, dictionary, k, a, b):\n",
    "    \n",
    "    lda_model = gensim.models.LdaMulticore(corpus=corpus,\n",
    "                                           id2word=dictionary,\n",
    "                                           num_topics=k, \n",
    "                                           random_state=100,\n",
    "                                           chunksize=100,\n",
    "                                           passes=10,\n",
    "                                           alpha=a,\n",
    "                                           eta=b)\n",
    "    \n",
    "    coherence_model_lda = CoherenceModel(model=lda_model, texts=data_lemmatized, dictionary=id2word, coherence='c_v')\n",
    "    \n",
    "    return coherence_model_lda.get_coherence()"
   ]
  },
  {
   "cell_type": "markdown",
   "id": "9805ccd2",
   "metadata": {},
   "source": [
    "Let's call the function, and iterate it over the range of topics, alpha, and beta parameter values"
   ]
  },
  {
   "cell_type": "code",
   "execution_count": 25,
   "id": "8ffb8a22",
   "metadata": {},
   "outputs": [
    {
     "name": "stderr",
     "output_type": "stream",
     "text": [
      "  1%|▋                                                                               | 5/540 [01:36<2:52:45, 19.37s/it]\n",
      "100%|██████████████████████████████████████████████████████████████████████████████| 540/540 [3:20:33<00:00, 22.28s/it]\n"
     ]
    }
   ],
   "source": [
    "import numpy as np\n",
    "import tqdm\n",
    "\n",
    "grid = {}\n",
    "grid['Validation_Set'] = {}\n",
    "\n",
    "# Topics range\n",
    "min_topics = 2\n",
    "max_topics = 11\n",
    "step_size = 1\n",
    "topics_range = range(min_topics, max_topics, step_size)\n",
    "\n",
    "# Alpha parameter\n",
    "alpha = list(np.arange(0.01, 1, 0.3))\n",
    "alpha.append('symmetric')\n",
    "alpha.append('asymmetric')\n",
    "\n",
    "# Beta parameter\n",
    "beta = list(np.arange(0.01, 1, 0.3))\n",
    "beta.append('symmetric')\n",
    "\n",
    "# Validation sets\n",
    "num_of_docs = len(corpus)\n",
    "corpus_sets = [gensim.utils.ClippedCorpus(corpus, int(num_of_docs*0.75)), \n",
    "               corpus]\n",
    "\n",
    "corpus_title = ['75% Corpus', '100% Corpus']\n",
    "\n",
    "model_results = {'Validation_Set': [],\n",
    "                 'Topics': [],\n",
    "                 'Alpha': [],\n",
    "                 'Beta': [],\n",
    "                 'Coherence': []\n",
    "                }\n",
    "\n",
    "# Can take a long time to run\n",
    "if 1 == 1:\n",
    "    pbar = tqdm.tqdm(total=(len(beta)*len(alpha)*len(topics_range)*len(corpus_title)))\n",
    "    \n",
    "    # iterate through validation corpuses\n",
    "    for i in range(len(corpus_sets)):\n",
    "        # iterate through number of topics\n",
    "        for k in topics_range:\n",
    "            # iterate through alpha values\n",
    "            for a in alpha:\n",
    "                # iterare through beta values\n",
    "                for b in beta:\n",
    "                    # get the coherence score for the given parameters\n",
    "                    cv = compute_coherence_values(corpus=corpus_sets[i], dictionary=id2word, \n",
    "                                                  k=k, a=a, b=b)\n",
    "                    # Save the model results\n",
    "                    model_results['Validation_Set'].append(corpus_title[i])\n",
    "                    model_results['Topics'].append(k)\n",
    "                    model_results['Alpha'].append(a)\n",
    "                    model_results['Beta'].append(b)\n",
    "                    model_results['Coherence'].append(cv)\n",
    "                    \n",
    "                    pbar.update(1)\n",
    "    pd.DataFrame(model_results).to_csv('./lda_tuning_results.csv', index=False)\n",
    "    pbar.close()"
   ]
  },
  {
   "cell_type": "markdown",
   "id": "e38ea960",
   "metadata": {},
   "source": [
    "## Step 7: Final Model\n",
    "\n",
    "Based on external evaluation (Code to be added from Excel based analysis), let's train the final model with parameters yielding highest coherence score"
   ]
  },
  {
   "cell_type": "code",
   "execution_count": 26,
   "id": "4eeb552f",
   "metadata": {},
   "outputs": [],
   "source": [
    "num_topics = 8\n",
    "\n",
    "lda_model = gensim.models.LdaMulticore(corpus=corpus,\n",
    "                                           id2word=id2word,\n",
    "                                           num_topics=num_topics, \n",
    "                                           random_state=100,\n",
    "                                           chunksize=100,\n",
    "                                           passes=10,\n",
    "                                           alpha=0.01,\n",
    "                                           eta=0.9)"
   ]
  },
  {
   "cell_type": "code",
   "execution_count": 27,
   "id": "9a9345e0",
   "metadata": {},
   "outputs": [
    {
     "name": "stdout",
     "output_type": "stream",
     "text": [
      "[(0,\n",
      "  '0.026*\"worldwar\" + 0.016*\"war\" + 0.010*\"ukraine\" + 0.009*\"world\" + '\n",
      "  '0.008*\"people\" + 0.006*\"country\" + 0.006*\"stop\" + 0.005*\"thank\" + '\n",
      "  '0.005*\"standwithrussia\" + 0.005*\"go\"'),\n",
      " (1,\n",
      "  '0.013*\"ukraine\" + 0.011*\"russian\" + 0.008*\"say\" + 0.008*\"ukrainian\" + '\n",
      "  '0.006*\"day\" + 0.006*\"support\" + 0.006*\"war\" + 0.004*\"zelenskyy\" + '\n",
      "  '0.004*\"take\" + 0.004*\"long\"'),\n",
      " (2,\n",
      "  '0.002*\"gold\" + 0.002*\"eod\" + 0.002*\"anti\" + 0.001*\"team\" + 0.001*\"bronze\" + '\n",
      "  '0.001*\"medal\" + 0.001*\"ukraineinvasion\" + 0.001*\"match\" + 0.001*\"pull\" + '\n",
      "  '0.001*\"football\"'),\n",
      " (3,\n",
      "  '0.002*\"happy\" + 0.001*\"corgicrew_guncontrolnow\" + 0.001*\"torture\" + '\n",
      "  '0.001*\"agame\" + 0.001*\"cdnpoli\" + 0.001*\"crimeantatar\" + 0.001*\"english\" + '\n",
      "  '0.001*\"watch\" + 0.001*\"trudeau\" + 0.001*\"laugh\"'),\n",
      " (4,\n",
      "  '0.010*\"standwithrussia\" + 0.009*\"friend\" + 0.004*\"good_night\" + '\n",
      "  '0.004*\"good_morning\" + 0.001*\"corgicrew_guncontrolnow\" + 0.001*\"big\" + '\n",
      "  '0.001*\"fren\" + 0.001*\"dear_friend\" + 0.001*\"recent_update\" + 0.001*\"sorry\"'),\n",
      " (5,\n",
      "  '0.004*\"catsontwitter_ukrainewarnew\" + 0.004*\"uaarmy_zelensky\" + '\n",
      "  '0.003*\"leopard_catsoftwitter\" + 0.003*\"ukrainewar\" + 0.002*\"flight\" + '\n",
      "  '0.001*\"ukraine\" + 0.001*\"operationganga\" + 0.001*\"researcher\" + '\n",
      "  '0.001*\"project\" + 0.001*\"indian_national\"'),\n",
      " (6,\n",
      "  '0.005*\"good_morne\" + 0.003*\"friend\" + 0.002*\"oil\" + 0.002*\"standwithrussia\" '\n",
      "  '+ 0.002*\"read\" + 0.002*\"day\" + 0.002*\"wonderful\" + 0.002*\"ukrainerussie\" + '\n",
      "  '0.001*\"campaign\" + 0.001*\"gas\"'),\n",
      " (7,\n",
      "  '0.029*\"russian\" + 0.023*\"ukrainian\" + 0.012*\"ukraine\" + 0.009*\"bakhmut\" + '\n",
      "  '0.009*\"force\" + 0.008*\"military\" + 0.008*\"soldier\" + 0.007*\"tank\" + '\n",
      "  '0.006*\"video\" + 0.005*\"destroy\"')]\n"
     ]
    }
   ],
   "source": [
    "from pprint import pprint\n",
    "\n",
    "# Print the Keyword in the 10 topics\n",
    "pprint(lda_model.print_topics())\n",
    "doc_lda = lda_model[corpus]"
   ]
  },
  {
   "cell_type": "markdown",
   "id": "a5014034",
   "metadata": {},
   "source": [
    "### Closing Notes\n",
    "\n",
    "We started with understanding why evaluating the topic model is essential. Here, we reviewed existing methods and scratched the surface of topic coherence, along with the available coherence measures. Then we built a default LDA model using Gensim implementation to establish the baseline coherence score and reviewed practical ways to optimize the LDA hyperparameters."
   ]
  }
 ],
 "metadata": {
  "kernelspec": {
   "display_name": "Python 3 (ipykernel)",
   "language": "python",
   "name": "python3"
  },
  "language_info": {
   "codemirror_mode": {
    "name": "ipython",
    "version": 3
   },
   "file_extension": ".py",
   "mimetype": "text/x-python",
   "name": "python",
   "nbconvert_exporter": "python",
   "pygments_lexer": "ipython3",
   "version": "3.10.8"
  }
 },
 "nbformat": 4,
 "nbformat_minor": 5
}
